{
 "cells": [
  {
   "cell_type": "code",
   "execution_count": 71,
   "metadata": {},
   "outputs": [],
   "source": [
    "from bs4 import BeautifulSoup\n",
    "import requests\n",
    "from textblob import TextBlob"
   ]
  },
  {
   "cell_type": "code",
   "execution_count": 72,
   "metadata": {},
   "outputs": [],
   "source": [
    "tickers = ['ICBP','INDF','WIKA','SRIL']\n",
    "url = 'https://www.kontan.co.id/search/?search={}&Button_search='.format(tickers[0])\n",
    "resp = requests.get(url)"
   ]
  },
  {
   "cell_type": "code",
   "execution_count": 73,
   "metadata": {},
   "outputs": [],
   "source": [
    "bs = BeautifulSoup(resp.text, \"html.parser\")"
   ]
  },
  {
   "cell_type": "code",
   "execution_count": 74,
   "metadata": {},
   "outputs": [],
   "source": [
    "url_bs = bs.find('div',{'class':'list-berita'}).find_all('li')\n",
    "\n",
    "analysis = TextBlob(content)"
   ]
  },
  {
   "cell_type": "code",
   "execution_count": 99,
   "metadata": {},
   "outputs": [],
   "source": [
    "def get_ticker_sentiments(ticker):\n",
    "    url_main = 'https://www.kontan.co.id/search/?search={}&Button_search='.format(ticker)\n",
    "    resp = requests.get(url_main)    \n",
    "    bs = BeautifulSoup(resp.text, \"html.parser\")\n",
    "    url_bs = bs.find('div',{'class':'list-berita'}).find_all('li')\n",
    "    url_lists = [x.find('a',href=True)['href'].replace('//','http://') for x in url_bs]\n",
    "    articles = []\n",
    "    for url in url_lists:\n",
    "        r = requests.get(url)\n",
    "        article = {}\n",
    "        \n",
    "        bs = BeautifulSoup(r.text, \"html.parser\")    \n",
    "        content = ''\n",
    "        for paraghrap in bs.find_all('p'):\n",
    "            content += paraghrap.get_text()\n",
    "        article['content'] = content\n",
    "        analysis = TextBlob(content)\n",
    "        \n",
    "        article['date'] = bs.find('meta',attrs={'name': 'content_PublishedDate'})['content']\n",
    "        article['link'] = url\n",
    "\n",
    "        an = analysis.translate(from_lang='id', to='en')\n",
    "        article['sentiment_polarity'] = an.sentiment.polarity\n",
    "        article['sentiment_subjectivity'] = an.sentiment.subjectivity\n",
    "        articles.append(article)\n",
    "    return articles"
   ]
  },
  {
   "cell_type": "code",
   "execution_count": 111,
   "metadata": {},
   "outputs": [
    {
     "data": {
      "text/plain": [
       "32.70640277862549"
      ]
     },
     "execution_count": 111,
     "metadata": {},
     "output_type": "execute_result"
    }
   ],
   "source": [
    "t1 = time()\n",
    "bbca = get_ticker_sentiments('bbca')\n",
    "time() - t1"
   ]
  },
  {
   "cell_type": "code",
   "execution_count": 91,
   "metadata": {},
   "outputs": [
    {
     "name": "stdout",
     "output_type": "stream",
     "text": [
      "Sentiment(polarity=0.165, subjectivity=0.29499999999999993)\n"
     ]
    }
   ],
   "source": [
    "print(an.sentiment)"
   ]
  },
  {
   "cell_type": "code",
   "execution_count": null,
   "metadata": {},
   "outputs": [],
   "source": []
  }
 ],
 "metadata": {
  "kernelspec": {
   "display_name": "Python 3",
   "language": "python",
   "name": "python3"
  },
  "language_info": {
   "codemirror_mode": {
    "name": "ipython",
    "version": 3
   },
   "file_extension": ".py",
   "mimetype": "text/x-python",
   "name": "python",
   "nbconvert_exporter": "python",
   "pygments_lexer": "ipython3",
   "version": "3.7.6"
  }
 },
 "nbformat": 4,
 "nbformat_minor": 4
}
